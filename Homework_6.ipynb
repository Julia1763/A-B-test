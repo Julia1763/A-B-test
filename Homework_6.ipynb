{
 "cells": [
  {
   "cell_type": "code",
   "execution_count": 7,
   "id": "2685d3f0",
   "metadata": {},
   "outputs": [],
   "source": [
    "import numpy as np\n",
    "from scipy.stats import norm, t"
   ]
  },
  {
   "cell_type": "markdown",
   "id": "511f04f5",
   "metadata": {},
   "source": [
    "Продакт на главной mail.ru решил протестировать в рекомендательной ленте контента вместо карточек со статьями видеоплеер с короткими видео. Нынешний таймспент на юзера в день в среднем равен 25 минут, а стандартная ошибка (SD) равна 156. Мы предполагаем, что в новой версии таймспент на юзера в день изменится на 10%. Средний трафик 20000 человек в день. Посчитайте сколько дней необходимо держать эксперимент при alpha = 5% и beta = 20%."
   ]
  },
  {
   "cell_type": "code",
   "execution_count": 2,
   "id": "d1d0a851",
   "metadata": {},
   "outputs": [],
   "source": [
    "# среднее количество человек в день\n",
    "n = 20000  \n",
    "# стандартная ошибка\n",
    "sd = 156 \n",
    "# уровень значимости\n",
    "alpha = 0.05 \n",
    "# вероятность ошибки второго рода\n",
    "beta = 0.2  \n",
    "# относительное изменение таймспента\n",
    "prop_diff = 0.1  "
   ]
  },
  {
   "cell_type": "code",
   "execution_count": 8,
   "id": "5b7b85b2",
   "metadata": {},
   "outputs": [
    {
     "name": "stdout",
     "output_type": "stream",
     "text": [
      "1.103086578651014\n",
      "2.162009965985497\n",
      "2000.0\n"
     ]
    }
   ],
   "source": [
    "# стандартная ошибка среднего\n",
    "se = sd / np.sqrt(n)  \n",
    "print(se)\n",
    "# граница для доверительного интервала\n",
    "m = se * norm.ppf(1 - alpha/2)  \n",
    "print(m)\n",
    "# абсолютное изменение таймспента\n",
    "delta = prop_diff * n  \n",
    "print(delta)"
   ]
  },
  {
   "cell_type": "code",
   "execution_count": 9,
   "id": "b43aecd6",
   "metadata": {},
   "outputs": [
    {
     "name": "stdout",
     "output_type": "stream",
     "text": [
      "1.6448536269514722\n",
      "0.8416212335729143\n"
     ]
    }
   ],
   "source": [
    "# критические значения\n",
    "z_alpha = norm.ppf(1 - alpha)  \n",
    "print(z_alpha)\n",
    "z_beta = norm.ppf(1 - beta) \n",
    "print(z_beta)"
   ]
  },
  {
   "cell_type": "code",
   "execution_count": 11,
   "id": "4365b2f1",
   "metadata": {},
   "outputs": [
    {
     "name": "stdout",
     "output_type": "stream",
     "text": [
      "13.117698837921413\n",
      "12.183893770675912\n",
      "14.0\n"
     ]
    }
   ],
   "source": [
    "n_1 = (z_alpha*m + z_beta*sd/delta)**2\n",
    "n_2 = (z_alpha*m - z_beta*sd/delta)**2\n",
    "print(n_1)\n",
    "print(n_2)"
   ]
  },
  {
   "cell_type": "code",
   "execution_count": 12,
   "id": "bd6c4e0a",
   "metadata": {},
   "outputs": [
    {
     "name": "stdout",
     "output_type": "stream",
     "text": [
      "0.06999999999999999\n"
     ]
    }
   ],
   "source": [
    "# Округляем бОльшее количество до целого \n",
    "n_0 = 14\n",
    "Days = (n_0/n)*100\n",
    "print(Days)"
   ]
  },
  {
   "cell_type": "markdown",
   "id": "0527ab9f",
   "metadata": {},
   "source": [
    "Потребуется 1 день"
   ]
  },
  {
   "cell_type": "markdown",
   "id": "562e201c",
   "metadata": {},
   "source": [
    "Наша продуктовая команда в ecommerce магазине планирует запустить тест, направленный на ускорение загрузки сайта. Одна из основных метрик bounce rate в GA = 40%. Мы предполагаем, что при оптимизации сайта она изменится минимум на 20%. Средний трафик 4000 человек в день. Посчитайте сколько нам нужно дней держать эксперимент при alpha = 5% и beta = 20%."
   ]
  },
  {
   "cell_type": "code",
   "execution_count": null,
   "id": "b6ec8188",
   "metadata": {},
   "outputs": [],
   "source": []
  }
 ],
 "metadata": {
  "kernelspec": {
   "display_name": "Python 3 (ipykernel)",
   "language": "python",
   "name": "python3"
  },
  "language_info": {
   "codemirror_mode": {
    "name": "ipython",
    "version": 3
   },
   "file_extension": ".py",
   "mimetype": "text/x-python",
   "name": "python",
   "nbconvert_exporter": "python",
   "pygments_lexer": "ipython3",
   "version": "3.9.13"
  }
 },
 "nbformat": 4,
 "nbformat_minor": 5
}
