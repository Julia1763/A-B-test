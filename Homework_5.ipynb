{
 "cells": [
  {
   "cell_type": "code",
   "execution_count": 1,
   "id": "477b0ed2",
   "metadata": {},
   "outputs": [
    {
     "name": "stdout",
     "output_type": "stream",
     "text": [
      "-3.2110930329358367\n"
     ]
    }
   ],
   "source": [
    "from math import sqrt\n",
    "\n",
    "n1 = 164\n",
    "\n",
    "n2 = 228\n",
    "\n",
    "N1 = 15550\n",
    "\n",
    "N2 = N1\n",
    "\n",
    "p1 = n1 / N1\n",
    "\n",
    "p2 = n2 / N2\n",
    "\n",
    "p =  (n1 * p1 + n2 * p2) / (n1 + n2)\n",
    "\n",
    "Z = (p1 - p2) / sqrt(p * (1 - p) * (1/N1 + 1/N2))\n",
    "print(Z)"
   ]
  },
  {
   "cell_type": "markdown",
   "id": "6bcc38e1",
   "metadata": {},
   "source": [
    "При alpha=5% z_table=1.96, Z < z_table => Изменения, внесенные в заказную форму, в магазине Утконос дали статистически значимый эффект. Рекомендуется упростить форму заказа."
   ]
  },
  {
   "cell_type": "code",
   "execution_count": 2,
   "id": "2d1e2960",
   "metadata": {},
   "outputs": [
    {
     "name": "stdout",
     "output_type": "stream",
     "text": [
      "5.5\n"
     ]
    }
   ],
   "source": [
    "import numpy as np\n",
    "import math \n",
    "\n",
    "number_arr=np.array([1, 2, 3, 4, 5, 6, 7, 8, 9, 10])\n",
    "# Выборочное среднее\n",
    "M = (1/10) * sum(number_arr)\n",
    "print(M)"
   ]
  },
  {
   "cell_type": "code",
   "execution_count": 3,
   "id": "34383751",
   "metadata": {},
   "outputs": [
    {
     "name": "stdout",
     "output_type": "stream",
     "text": [
      "8.25\n"
     ]
    }
   ],
   "source": [
    "# Выборочная дисперсия\n",
    "X = sum(number_arr)/len(number_arr)\n",
    "square_dev=(number_arr-X)**2\n",
    "D = sum(square_dev)/len(number_arr)\n",
    "print(D)"
   ]
  },
  {
   "cell_type": "code",
   "execution_count": 4,
   "id": "eca60b1c",
   "metadata": {},
   "outputs": [
    {
     "name": "stdout",
     "output_type": "stream",
     "text": [
      "2.8722813232690143\n"
     ]
    }
   ],
   "source": [
    "# стандартное отклонение:\n",
    "\n",
    "SKO = (sum(square_dev)/len(number_arr))**(1/2)\n",
    "print(SKO)"
   ]
  },
  {
   "cell_type": "code",
   "execution_count": 5,
   "id": "8821e708",
   "metadata": {},
   "outputs": [
    {
     "name": "stdout",
     "output_type": "stream",
     "text": [
      "5.5\n"
     ]
    }
   ],
   "source": [
    "# Медиана\n",
    "V = (5+6) / 2\n",
    "print(V)"
   ]
  },
  {
   "cell_type": "code",
   "execution_count": null,
   "id": "dbea78a0",
   "metadata": {},
   "outputs": [],
   "source": []
  }
 ],
 "metadata": {
  "kernelspec": {
   "display_name": "Python 3 (ipykernel)",
   "language": "python",
   "name": "python3"
  },
  "language_info": {
   "codemirror_mode": {
    "name": "ipython",
    "version": 3
   },
   "file_extension": ".py",
   "mimetype": "text/x-python",
   "name": "python",
   "nbconvert_exporter": "python",
   "pygments_lexer": "ipython3",
   "version": "3.9.13"
  }
 },
 "nbformat": 4,
 "nbformat_minor": 5
}
